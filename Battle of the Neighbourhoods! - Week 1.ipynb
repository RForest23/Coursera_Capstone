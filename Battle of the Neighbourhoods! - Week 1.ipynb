{
 "cells": [
  {
   "cell_type": "markdown",
   "metadata": {},
   "source": [
    "### Battle of the Neighbourhoods! - Week 1"
   ]
  },
  {
   "cell_type": "markdown",
   "metadata": {},
   "source": [
    "#### Introduction:\n",
    "\n",
    "_Within this notebook, I will address the business issue which will be solved during this project._\n",
    "_In short, we intend to locate the best neighbourhood in which to open a new restaurant._"
   ]
  },
  {
   "cell_type": "markdown",
   "metadata": {},
   "source": [
    "###### Author: R Forest"
   ]
  },
  {
   "cell_type": "markdown",
   "metadata": {},
   "source": [
    "#### Problem Background:"
   ]
  },
  {
   "cell_type": "markdown",
   "metadata": {},
   "source": [
    "London, The Big Smoke, a concrete jungle. All names given to the UK's busiest and most populated city, hosting around 9.3million people (2020) over 1,500 square miles of land space. It produced £500billion which equated to around 1/4 of the UK's GDP in 2018.\n",
    "\n",
    "With that wealth comes power and influence and what better place for wannabe entrepeneurs, business owners and politicians.\n",
    "\n",
    "It is well known as one of the world leaders in banking, retail, fashion, tourism, transport and within media is one of the most used movie/TV settings. However, it is a dog eat dog world within the streets underneath the sky scrapers, one where business are constantly rising and falling and to that end, any new business venture needs to plan carefully to avoid failure.\n",
    "\n",
    "Using analysis from data structures will enable any upcoming restauranteur to pick the right location, the right type of cuisine to serve and the right price."
   ]
  },
  {
   "cell_type": "markdown",
   "metadata": {},
   "source": [
    "#### Problem Description:"
   ]
  },
  {
   "cell_type": "markdown",
   "metadata": {},
   "source": [
    "The restaurant business is all about the customer; if the customer isn't happy - you won't make it. As such, a sound knowledge in the food type depending on the area you set up shop is vital. The business model is, in theory easy; \n",
    "\n",
    "* customer orders food\n",
    "* You provide said food\n",
    "* customer pays\n",
    "* repeat\n",
    "\n",
    "But how can we know what type of restaurant is best to open up and where? London is one of the most diverse places in the world with more than 270 different nationalities and around 300 languages being spoken within it. With this comes some of the most diverse types of cuisine all within a few mile radius - head to Brick Lane for some of the best curry, head to Picadilly where China town can serve you up some fresh duck or head over to Knightsbridge/Mayfair for some upscale fine dining.\n",
    "\n",
    "So what if we wanted to open a Pizza restaurant or a noodle bar? Where would be best to go? This project will tackle this issue head on using data sets on cuisine and demographics throughout London."
   ]
  },
  {
   "cell_type": "markdown",
   "metadata": {},
   "source": [
    "#### The Plan\n",
    "\n",
    "To create a successful business model, we are going to look at various factors to gain the best insight into where to select a location for our restaurant. We will look at;\n",
    "\n",
    "- London Population\n",
    "- London's Demographics\n",
    "- Accessibility to nearby markets to ensure costs are low but quality high\n",
    "- Reviews of similar local eateries\n",
    "- Who are the competitors in that location?\n",
    "- Cuisine served / Menu of the competitors\n",
    "- Segmentation of the Borough\n",
    "- Untapped markets\n",
    "- Saturated markets etc\n",
    "\n",
    "Using the above, we will be able to select the best location for this company to begin their restaurant business in."
   ]
  },
  {
   "cell_type": "markdown",
   "metadata": {},
   "source": [
    "#### Target audience\n",
    "\n",
    "To meet the companies expectations, I will identify the best location for the company to put roots down and also rationale any decisions or outcome I produce for them. "
   ]
  },
  {
   "cell_type": "markdown",
   "metadata": {},
   "source": [
    "#### Outcome criteria;\n",
    "\n",
    "The outcome criteria of the project will be a good recommendation of borough/Neighborhood choice the company based on lack of such restaurants in that location and nearest suppliers of ingredients."
   ]
  },
  {
   "cell_type": "code",
   "execution_count": null,
   "metadata": {},
   "outputs": [],
   "source": []
  }
 ],
 "metadata": {
  "kernelspec": {
   "display_name": "Python 3",
   "language": "python",
   "name": "python3"
  },
  "language_info": {
   "codemirror_mode": {
    "name": "ipython",
    "version": 3
   },
   "file_extension": ".py",
   "mimetype": "text/x-python",
   "name": "python",
   "nbconvert_exporter": "python",
   "pygments_lexer": "ipython3",
   "version": "3.7.6"
  }
 },
 "nbformat": 4,
 "nbformat_minor": 4
}
