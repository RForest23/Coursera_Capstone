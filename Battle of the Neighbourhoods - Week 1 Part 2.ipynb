{
 "cells": [
  {
   "cell_type": "markdown",
   "metadata": {},
   "source": [
    "### The Battle of the Neighborhoods - Week 1"
   ]
  },
  {
   "cell_type": "markdown",
   "metadata": {},
   "source": [
    "#### Data"
   ]
  },
  {
   "cell_type": "markdown",
   "metadata": {},
   "source": [
    "The city I have chosen to analyse is: __New York City__"
   ]
  },
  {
   "cell_type": "markdown",
   "metadata": {},
   "source": [
    "__Data 1__\n",
    "\n",
    "The first set of data will be from looking at the make-up of NYC itself. New York City consists of 5 boroughs (Brooklyn, Bronx, Staten Island, Manhattan and Queens) which in turn make up 306 neighbourhoods. \n",
    "\n",
    "Using a free dataset from the NYU spatial data repository; (https://geo.nyu.edu/catalog/nyu_2451_34572) we are able to break down that data into the boroughs and neighbourhoods and look at the longditude and latitudes of each of these segments.\n",
    "\n",
    "\n",
    "__Data 2__\n",
    "\n",
    "The next set of data will be looking at markets in surrounding areas for availability of fresh fruit and vegetables. The data found for this is held here; https://data.cityofnewyork.us/dataset/DOHMH-Farmers-Markets-and-Food-Boxes/8vwk-6iz2\n",
    "\n",
    "__Data 3__\n",
    "\n",
    "This will be data on the people and the food of New York City, targetting;\n",
    "\n",
    "- New York City's population\n",
    "- New York City Demographics\n",
    "- The cuisine types of New York City\n",
    "\n",
    "All of this data can be found through simple searches on Wikipedia. This data is reliable as it is updated frequently.\n",
    "\n",
    "Population: https://en.wikipedia.org/wiki/New_York_City\n",
    "Demographics: https://en.wikipedia.org/wiki/Economy_of_New_York_City\n",
    "Cuisine types: https://en.wikipedia.org/wiki/Cuisine_of_New_York_City\n",
    "\n",
    "__Data 4__\n",
    "\n",
    "New York City Geographical data and coordinates will be used in conjunction with the FourSquare API. This will allow us to find information on each of the various boroughs/neighbourhoods."
   ]
  },
  {
   "cell_type": "code",
   "execution_count": null,
   "metadata": {},
   "outputs": [],
   "source": []
  }
 ],
 "metadata": {
  "kernelspec": {
   "display_name": "Python 3",
   "language": "python",
   "name": "python3"
  },
  "language_info": {
   "codemirror_mode": {
    "name": "ipython",
    "version": 3
   },
   "file_extension": ".py",
   "mimetype": "text/x-python",
   "name": "python",
   "nbconvert_exporter": "python",
   "pygments_lexer": "ipython3",
   "version": "3.7.6"
  }
 },
 "nbformat": 4,
 "nbformat_minor": 4
}
