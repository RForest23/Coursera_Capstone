{
 "cells": [
  {
   "cell_type": "markdown",
   "metadata": {},
   "source": [
    "### Battle of the Neighbourhoods! - Week 1"
   ]
  },
  {
   "cell_type": "markdown",
   "metadata": {},
   "source": [
    "#### Introduction:\n",
    "\n",
    "_Within this notebook, I will address the business issue which will be solved during this project._\n",
    "_In short, we intend to locate the best neighbourhood in which to open a new restaurant._"
   ]
  },
  {
   "cell_type": "markdown",
   "metadata": {},
   "source": [
    "###### Author: R Forest"
   ]
  },
  {
   "cell_type": "markdown",
   "metadata": {},
   "source": [
    "#### Problem Background:"
   ]
  },
  {
   "cell_type": "markdown",
   "metadata": {},
   "source": [
    "New York City, NYC, The Big Apple, Concrete Jungle. All names given to the USA's most populated city, hosting around 8.3million people over 300 square miles of land space. It produces $2 Trillion of the USA's GMP each year and if it was it's own sovreignty it would be the 8th richest in the world.\n",
    "\n",
    "With that wealth comes power and influence and what better place for wannabe entrepeneurs, business owners and politicians.\n",
    "\n",
    "It is well known as one of the world leaders in banking, retail, fashion, tourism, transport and within media is one of the most used movie/TV settings. However, it is a dog eat dog world within the streets underneath the sky scrapers, one where business are constantly rising and falling and to that end, any new business venture needs to plan carefully to avoid failure.\n",
    "\n",
    "Using analysis from data structures will enable any upcoming restauranteur to pick the right location, the right type of cuisine to serve and the right price."
   ]
  },
  {
   "cell_type": "markdown",
   "metadata": {},
   "source": [
    "#### Problem Description:"
   ]
  },
  {
   "cell_type": "markdown",
   "metadata": {},
   "source": [
    "The restaurant business is all about the customer; if the customer isn't happy - you won't make it. As such, a sound knowledge in the food type depending on the area you set up shop is vital. The business model is, in theory easy; \n",
    "\n",
    "* customer orders food\n",
    "* You provide said food\n",
    "* customer pays\n",
    "* repeat\n",
    "\n",
    "But if you want to be smart about it, you wouldn't go opening up a lebanese eatery in the middle of little Italy would you?\n",
    "New York City has some of the best places to eat world cuisine, if you know the right spot. So let's look at some;\n",
    "\n",
    "The Bronx;\n",
    " - Known for Mexican, Jewish, Jamaican, Irish and Puerto Rican cuisine\n",
    "\n",
    "Queens;\n",
    " - Greek, Brazilian, Arabic, Indian, Chinese\n",
    "\n",
    "Brooklyn;\n",
    " - Some of the best pizza in the USA, need I say more?\n",
    "\n",
    "Manhattan;\n",
    " - Australian, Pakistani, German, Czech, Japanese, Korean, Vietnamese\n",
    "\n",
    "New York is also permanently linked to certain food types & styles, e.g. New York Bagel, New York style pizza. Anyone could open a pizza joint in Manhattan and be mediocre, but how are you going to put yourself ahead of the competition?"
   ]
  },
  {
   "cell_type": "markdown",
   "metadata": {},
   "source": [
    "#### The Plan\n",
    "\n",
    "To create a successful business model, we are going to look at various factors to gain the best insight into where to select a location for our restaurant. We will look at;\n",
    "\n",
    "- New York Population\n",
    "- New York City Demographics\n",
    "- Accessibility to nearby markets to ensure costs are low but quality high\n",
    "- Reviews of similar local eateries\n",
    "- Who are the competitors in that location?\n",
    "- Cuisine served / Menu of the competitors\n",
    "- Segmentation of the Borough\n",
    "- Untapped markets\n",
    "- Saturated markets etc\n",
    "\n",
    "Using the above, we will be able to select the best location for this company to begin their restaurant business in."
   ]
  },
  {
   "cell_type": "markdown",
   "metadata": {},
   "source": [
    "#### Target audience\n",
    "\n",
    "To meet the companies expectations, I will identify the best location for the company to put roots down and also rationale any decisions or outcome I produce for them. "
   ]
  },
  {
   "cell_type": "markdown",
   "metadata": {},
   "source": [
    "#### Outcome criteria;\n",
    "\n",
    "The outcome criteria of the project will be a good recommendation of borough/Neighborhood choice the company based on lack of such restaurants in that location and nearest suppliers of ingredients."
   ]
  },
  {
   "cell_type": "code",
   "execution_count": null,
   "metadata": {},
   "outputs": [],
   "source": []
  }
 ],
 "metadata": {
  "kernelspec": {
   "display_name": "Python 3",
   "language": "python",
   "name": "python3"
  },
  "language_info": {
   "codemirror_mode": {
    "name": "ipython",
    "version": 3
   },
   "file_extension": ".py",
   "mimetype": "text/x-python",
   "name": "python",
   "nbconvert_exporter": "python",
   "pygments_lexer": "ipython3",
   "version": "3.7.6"
  }
 },
 "nbformat": 4,
 "nbformat_minor": 4
}
