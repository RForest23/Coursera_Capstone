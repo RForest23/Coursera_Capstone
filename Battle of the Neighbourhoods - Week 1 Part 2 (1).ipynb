{
 "cells": [
  {
   "cell_type": "markdown",
   "metadata": {},
   "source": [
    "### The Battle of the Neighborhoods - Week 1"
   ]
  },
  {
   "cell_type": "markdown",
   "metadata": {},
   "source": [
    "#### Data"
   ]
  },
  {
   "cell_type": "markdown",
   "metadata": {},
   "source": [
    "The city I have chosen to analyse is: __London__"
   ]
  },
  {
   "cell_type": "markdown",
   "metadata": {},
   "source": [
    "__Data 1__\n",
    "\n",
    "The first set of data will be from looking at the make-up of London itself as well as defining the boundaries of London. There is the 'City of London' which is known as 'the square mile' making up only 1.12miles squared - it even has it's own police service seperate to the Metropolitan Police who police the rest of London and it's 32 Boroughs. \n",
    "\n",
    "For this data, it will be 'The Greater London Area' that we are referring to. So everything up to Enfield, down to Croydon and over to Hillingdon in the West and Havering in the East.\n",
    "\n",
    "This data will be extracted from Wikipedia and will also use FourSquare.\n",
    "\n",
    "London's 32 boroughs;\n",
    "https://en.wikipedia.org/wiki/List_of_areas_of_London \n",
    "\n",
    "This will be scraped below;\n"
   ]
  },
  {
   "cell_type": "code",
   "execution_count": 2,
   "metadata": {},
   "outputs": [
    {
     "name": "stdout",
     "output_type": "stream",
     "text": [
      "libraries numpy, pandas, json imported\n",
      "geopy installed\n",
      "Nominatim imported\n"
     ]
    }
   ],
   "source": [
    "#import relevant libraries required.\n",
    "\n",
    "from bs4 import BeautifulSoup\n",
    "import numpy as np\n",
    "\n",
    "#import pandas and set limiters on columns/rows.\n",
    "import pandas as pd\n",
    "pd.set_option('display.max_columns', None)\n",
    "pd.set_option('display.max_rows', None)\n",
    "\n",
    "import json\n",
    "print('libraries numpy, pandas, json imported')\n",
    "\n",
    "#install our geopy handling library\n",
    "!pip install -q install geopy\n",
    "print('geopy installed')\n",
    "\n",
    "from geopy.geocoders import Nominatim\n",
    "print('Nominatim imported')"
   ]
  },
  {
   "cell_type": "code",
   "execution_count": 4,
   "metadata": {},
   "outputs": [
    {
     "name": "stdout",
     "output_type": "stream",
     "text": [
      "import successful\n"
     ]
    }
   ],
   "source": [
    "#other libraries to install\n",
    "import requests\n",
    "\n",
    "#system to convert JSON files into pandas dataframes\n",
    "from pandas.io.json import json_normalize\n",
    "\n",
    "print('import successful')"
   ]
  },
  {
   "cell_type": "code",
   "execution_count": 5,
   "metadata": {},
   "outputs": [
    {
     "name": "stdout",
     "output_type": "stream",
     "text": [
      "matplot imported\n",
      "You have time!\n"
     ]
    }
   ],
   "source": [
    "import matplotlib.cm as cm\n",
    "import matplotlib.colors as colors\n",
    "print('matplot imported')\n",
    "\n",
    "#clustering tools\n",
    "from sklearn.cluster import KMeans\n",
    "\n",
    "!pip -q install geocoder\n",
    "import geocoder\n",
    "import time\n",
    "\n",
    "print('You have time!')"
   ]
  },
  {
   "cell_type": "code",
   "execution_count": 6,
   "metadata": {},
   "outputs": [
    {
     "name": "stdout",
     "output_type": "stream",
     "text": [
      "Collecting package metadata (current_repodata.json): ...working... done\n",
      "Solving environment: ...working... done\n",
      "\n",
      "# All requested packages already installed.\n",
      "\n",
      "folium installed\n",
      "folium finished\n"
     ]
    }
   ],
   "source": [
    "!conda install -c conda-forge folium=0.5.0 --yes\n",
    "!pip -q install folium \n",
    "\n",
    "print('folium installed')\n",
    "import folium\n",
    "print('folium finished')"
   ]
  },
  {
   "cell_type": "code",
   "execution_count": 7,
   "metadata": {},
   "outputs": [
    {
     "data": {
      "text/plain": [
       "<Response [200]>"
      ]
     },
     "execution_count": 7,
     "metadata": {},
     "output_type": "execute_result"
    }
   ],
   "source": [
    "#Now we can begin looking at the data\n",
    "wikipedia_link = 'https://en.wikipedia.org/wiki/List_of_areas_of_London'\n",
    "headers = {'User-Agent': 'Mozilla/5.0 (Windows NT 10.0; Win64; x64; rv:64.0) Gecko/20100101 Firefox/64.0'}\n",
    "wikipedia_page = requests.get(wikipedia_link, headers = headers)\n",
    "wikipedia_page"
   ]
  },
  {
   "cell_type": "code",
   "execution_count": 10,
   "metadata": {},
   "outputs": [],
   "source": [
    "#Cleaning the web page to extract just the table data we are after\n",
    "soup = BeautifulSoup(wikipedia_page.content, 'html.parser')\n",
    "\n",
    "table = soup.find('table', {'class':'wikitable sortable'}).tbody"
   ]
  },
  {
   "cell_type": "code",
   "execution_count": 11,
   "metadata": {},
   "outputs": [],
   "source": [
    "#Extract data\n",
    "\n",
    "rows = table.find_all('tr')"
   ]
  },
  {
   "cell_type": "code",
   "execution_count": 12,
   "metadata": {},
   "outputs": [],
   "source": [
    "columns = [i.text.replace('\\n', '')\n",
    "          for i in rows[0].find_all('th')]"
   ]
  },
  {
   "cell_type": "code",
   "execution_count": 13,
   "metadata": {},
   "outputs": [
    {
     "data": {
      "text/html": [
       "<div>\n",
       "<style scoped>\n",
       "    .dataframe tbody tr th:only-of-type {\n",
       "        vertical-align: middle;\n",
       "    }\n",
       "\n",
       "    .dataframe tbody tr th {\n",
       "        vertical-align: top;\n",
       "    }\n",
       "\n",
       "    .dataframe thead th {\n",
       "        text-align: right;\n",
       "    }\n",
       "</style>\n",
       "<table border=\"1\" class=\"dataframe\">\n",
       "  <thead>\n",
       "    <tr style=\"text-align: right;\">\n",
       "      <th></th>\n",
       "      <th>Location</th>\n",
       "      <th>London borough</th>\n",
       "      <th>Post town</th>\n",
       "      <th>Postcode district</th>\n",
       "      <th>Dial code</th>\n",
       "      <th>OS grid ref</th>\n",
       "    </tr>\n",
       "  </thead>\n",
       "  <tbody>\n",
       "  </tbody>\n",
       "</table>\n",
       "</div>"
      ],
      "text/plain": [
       "Empty DataFrame\n",
       "Columns: [Location, London borough, Post town, Postcode district, Dial code, OS grid ref]\n",
       "Index: []"
      ]
     },
     "execution_count": 13,
     "metadata": {},
     "output_type": "execute_result"
    }
   ],
   "source": [
    "#convert to a pandas df\n",
    "\n",
    "df = pd.DataFrame(columns = columns)\n",
    "df"
   ]
  },
  {
   "cell_type": "code",
   "execution_count": 14,
   "metadata": {},
   "outputs": [],
   "source": [
    "#Now we will extract the rows of data and incorporate it into our table\n",
    "\n",
    "for i in range(1, len(rows)):\n",
    "    tds = rows[i].find_all('td')\n",
    "    \n",
    "    \n",
    "    if len(tds) == 7:\n",
    "        values = [tds[0].text, tds[1].text, tds[2].text.replace('\\n', ''.replace('\\xa0','')), tds[3].text, tds[4].text.replace('\\n', ''.replace('\\xa0','')), tds[5].text.replace('\\n', ''.replace('\\xa0','')), tds[6].text.replace('\\n', ''.replace('\\xa0',''))]\n",
    "    else:\n",
    "        values = [td.text.replace('\\n', '').replace('\\xa0','') for td in tds]\n",
    "        \n",
    "        df = df.append(pd.Series(values, index = columns), ignore_index = True)\n",
    "\n",
    "        df"
   ]
  },
  {
   "cell_type": "code",
   "execution_count": 15,
   "metadata": {},
   "outputs": [
    {
     "data": {
      "text/html": [
       "<div>\n",
       "<style scoped>\n",
       "    .dataframe tbody tr th:only-of-type {\n",
       "        vertical-align: middle;\n",
       "    }\n",
       "\n",
       "    .dataframe tbody tr th {\n",
       "        vertical-align: top;\n",
       "    }\n",
       "\n",
       "    .dataframe thead th {\n",
       "        text-align: right;\n",
       "    }\n",
       "</style>\n",
       "<table border=\"1\" class=\"dataframe\">\n",
       "  <thead>\n",
       "    <tr style=\"text-align: right;\">\n",
       "      <th></th>\n",
       "      <th>Location</th>\n",
       "      <th>London borough</th>\n",
       "      <th>Post town</th>\n",
       "      <th>Postcode district</th>\n",
       "      <th>Dial code</th>\n",
       "      <th>OS grid ref</th>\n",
       "    </tr>\n",
       "  </thead>\n",
       "  <tbody>\n",
       "    <tr>\n",
       "      <th>0</th>\n",
       "      <td>Abbey Wood</td>\n",
       "      <td>Bexley,  Greenwich [7]</td>\n",
       "      <td>LONDON</td>\n",
       "      <td>SE2</td>\n",
       "      <td>020</td>\n",
       "      <td>TQ465785</td>\n",
       "    </tr>\n",
       "    <tr>\n",
       "      <th>1</th>\n",
       "      <td>Acton</td>\n",
       "      <td>Ealing, Hammersmith and Fulham[8]</td>\n",
       "      <td>LONDON</td>\n",
       "      <td>W3, W4</td>\n",
       "      <td>020</td>\n",
       "      <td>TQ205805</td>\n",
       "    </tr>\n",
       "    <tr>\n",
       "      <th>2</th>\n",
       "      <td>Addington</td>\n",
       "      <td>Croydon[8]</td>\n",
       "      <td>CROYDON</td>\n",
       "      <td>CR0</td>\n",
       "      <td>020</td>\n",
       "      <td>TQ375645</td>\n",
       "    </tr>\n",
       "    <tr>\n",
       "      <th>3</th>\n",
       "      <td>Addiscombe</td>\n",
       "      <td>Croydon[8]</td>\n",
       "      <td>CROYDON</td>\n",
       "      <td>CR0</td>\n",
       "      <td>020</td>\n",
       "      <td>TQ345665</td>\n",
       "    </tr>\n",
       "    <tr>\n",
       "      <th>4</th>\n",
       "      <td>Albany Park</td>\n",
       "      <td>Bexley</td>\n",
       "      <td>BEXLEY, SIDCUP</td>\n",
       "      <td>DA5, DA14</td>\n",
       "      <td>020</td>\n",
       "      <td>TQ478728</td>\n",
       "    </tr>\n",
       "  </tbody>\n",
       "</table>\n",
       "</div>"
      ],
      "text/plain": [
       "      Location                     London borough       Post town  \\\n",
       "0   Abbey Wood             Bexley,  Greenwich [7]          LONDON   \n",
       "1        Acton  Ealing, Hammersmith and Fulham[8]          LONDON   \n",
       "2    Addington                         Croydon[8]         CROYDON   \n",
       "3   Addiscombe                         Croydon[8]         CROYDON   \n",
       "4  Albany Park                             Bexley  BEXLEY, SIDCUP   \n",
       "\n",
       "  Postcode district Dial code OS grid ref  \n",
       "0               SE2       020    TQ465785  \n",
       "1            W3, W4       020    TQ205805  \n",
       "2               CR0       020    TQ375645  \n",
       "3               CR0       020    TQ345665  \n",
       "4         DA5, DA14       020    TQ478728  "
      ]
     },
     "execution_count": 15,
     "metadata": {},
     "output_type": "execute_result"
    }
   ],
   "source": [
    "df.head(5)"
   ]
  },
  {
   "cell_type": "code",
   "execution_count": 16,
   "metadata": {},
   "outputs": [],
   "source": [
    "#rename some of the columns to better fit our needs\n",
    "\n",
    "df = df.rename(index=str, columns = {'Location': 'Location', 'London\\xa0borough': 'Borough', 'Post town': 'Post-Town', 'Postcode\\xa0district': 'Postcode', 'Dial\\xa0code': 'Dial-code', 'OS grid ref': 'OSGridRef'})"
   ]
  },
  {
   "cell_type": "code",
   "execution_count": 17,
   "metadata": {},
   "outputs": [
    {
     "data": {
      "text/html": [
       "<div>\n",
       "<style scoped>\n",
       "    .dataframe tbody tr th:only-of-type {\n",
       "        vertical-align: middle;\n",
       "    }\n",
       "\n",
       "    .dataframe tbody tr th {\n",
       "        vertical-align: top;\n",
       "    }\n",
       "\n",
       "    .dataframe thead th {\n",
       "        text-align: right;\n",
       "    }\n",
       "</style>\n",
       "<table border=\"1\" class=\"dataframe\">\n",
       "  <thead>\n",
       "    <tr style=\"text-align: right;\">\n",
       "      <th></th>\n",
       "      <th>Location</th>\n",
       "      <th>Borough</th>\n",
       "      <th>Post-Town</th>\n",
       "      <th>Postcode</th>\n",
       "      <th>Dial-code</th>\n",
       "      <th>OSGridRef</th>\n",
       "    </tr>\n",
       "  </thead>\n",
       "  <tbody>\n",
       "    <tr>\n",
       "      <th>0</th>\n",
       "      <td>Abbey Wood</td>\n",
       "      <td>Bexley,  Greenwich [7]</td>\n",
       "      <td>LONDON</td>\n",
       "      <td>SE2</td>\n",
       "      <td>020</td>\n",
       "      <td>TQ465785</td>\n",
       "    </tr>\n",
       "    <tr>\n",
       "      <th>1</th>\n",
       "      <td>Acton</td>\n",
       "      <td>Ealing, Hammersmith and Fulham[8]</td>\n",
       "      <td>LONDON</td>\n",
       "      <td>W3, W4</td>\n",
       "      <td>020</td>\n",
       "      <td>TQ205805</td>\n",
       "    </tr>\n",
       "    <tr>\n",
       "      <th>2</th>\n",
       "      <td>Addington</td>\n",
       "      <td>Croydon[8]</td>\n",
       "      <td>CROYDON</td>\n",
       "      <td>CR0</td>\n",
       "      <td>020</td>\n",
       "      <td>TQ375645</td>\n",
       "    </tr>\n",
       "    <tr>\n",
       "      <th>3</th>\n",
       "      <td>Addiscombe</td>\n",
       "      <td>Croydon[8]</td>\n",
       "      <td>CROYDON</td>\n",
       "      <td>CR0</td>\n",
       "      <td>020</td>\n",
       "      <td>TQ345665</td>\n",
       "    </tr>\n",
       "    <tr>\n",
       "      <th>4</th>\n",
       "      <td>Albany Park</td>\n",
       "      <td>Bexley</td>\n",
       "      <td>BEXLEY, SIDCUP</td>\n",
       "      <td>DA5, DA14</td>\n",
       "      <td>020</td>\n",
       "      <td>TQ478728</td>\n",
       "    </tr>\n",
       "  </tbody>\n",
       "</table>\n",
       "</div>"
      ],
      "text/plain": [
       "      Location                            Borough       Post-Town   Postcode  \\\n",
       "0   Abbey Wood             Bexley,  Greenwich [7]          LONDON        SE2   \n",
       "1        Acton  Ealing, Hammersmith and Fulham[8]          LONDON     W3, W4   \n",
       "2    Addington                         Croydon[8]         CROYDON        CR0   \n",
       "3   Addiscombe                         Croydon[8]         CROYDON        CR0   \n",
       "4  Albany Park                             Bexley  BEXLEY, SIDCUP  DA5, DA14   \n",
       "\n",
       "  Dial-code OSGridRef  \n",
       "0       020  TQ465785  \n",
       "1       020  TQ205805  \n",
       "2       020  TQ375645  \n",
       "3       020  TQ345665  \n",
       "4       020  TQ478728  "
      ]
     },
     "execution_count": 17,
     "metadata": {},
     "output_type": "execute_result"
    }
   ],
   "source": [
    "df.head(5)"
   ]
  },
  {
   "cell_type": "code",
   "execution_count": 18,
   "metadata": {},
   "outputs": [],
   "source": [
    "#We will now remove the [x] next to the boroughs\n",
    "\n",
    "df['Borough'] = df['Borough'].map(lambda x: x.rstrip(']').rstrip('0123456789').rstrip('['))"
   ]
  },
  {
   "cell_type": "code",
   "execution_count": 19,
   "metadata": {},
   "outputs": [
    {
     "data": {
      "text/plain": [
       "(533, 6)"
      ]
     },
     "execution_count": 19,
     "metadata": {},
     "output_type": "execute_result"
    }
   ],
   "source": [
    "#see shape of table\n",
    "df.shape"
   ]
  },
  {
   "cell_type": "code",
   "execution_count": 20,
   "metadata": {},
   "outputs": [
    {
     "data": {
      "text/html": [
       "<div>\n",
       "<style scoped>\n",
       "    .dataframe tbody tr th:only-of-type {\n",
       "        vertical-align: middle;\n",
       "    }\n",
       "\n",
       "    .dataframe tbody tr th {\n",
       "        vertical-align: top;\n",
       "    }\n",
       "\n",
       "    .dataframe thead th {\n",
       "        text-align: right;\n",
       "    }\n",
       "</style>\n",
       "<table border=\"1\" class=\"dataframe\">\n",
       "  <thead>\n",
       "    <tr style=\"text-align: right;\">\n",
       "      <th></th>\n",
       "      <th>Location</th>\n",
       "      <th>Borough</th>\n",
       "      <th>Post-Town</th>\n",
       "      <th>Postcode</th>\n",
       "      <th>Dial-code</th>\n",
       "      <th>OSGridRef</th>\n",
       "    </tr>\n",
       "  </thead>\n",
       "  <tbody>\n",
       "    <tr>\n",
       "      <th>0</th>\n",
       "      <td>Abbey Wood</td>\n",
       "      <td>Bexley,  Greenwich</td>\n",
       "      <td>LONDON</td>\n",
       "      <td>SE2</td>\n",
       "      <td>020</td>\n",
       "      <td>TQ465785</td>\n",
       "    </tr>\n",
       "    <tr>\n",
       "      <th>1</th>\n",
       "      <td>Acton</td>\n",
       "      <td>Ealing, Hammersmith and Fulham</td>\n",
       "      <td>LONDON</td>\n",
       "      <td>W3, W4</td>\n",
       "      <td>020</td>\n",
       "      <td>TQ205805</td>\n",
       "    </tr>\n",
       "    <tr>\n",
       "      <th>2</th>\n",
       "      <td>Addington</td>\n",
       "      <td>Croydon</td>\n",
       "      <td>CROYDON</td>\n",
       "      <td>CR0</td>\n",
       "      <td>020</td>\n",
       "      <td>TQ375645</td>\n",
       "    </tr>\n",
       "    <tr>\n",
       "      <th>3</th>\n",
       "      <td>Addiscombe</td>\n",
       "      <td>Croydon</td>\n",
       "      <td>CROYDON</td>\n",
       "      <td>CR0</td>\n",
       "      <td>020</td>\n",
       "      <td>TQ345665</td>\n",
       "    </tr>\n",
       "    <tr>\n",
       "      <th>4</th>\n",
       "      <td>Albany Park</td>\n",
       "      <td>Bexley</td>\n",
       "      <td>BEXLEY, SIDCUP</td>\n",
       "      <td>DA5, DA14</td>\n",
       "      <td>020</td>\n",
       "      <td>TQ478728</td>\n",
       "    </tr>\n",
       "  </tbody>\n",
       "</table>\n",
       "</div>"
      ],
      "text/plain": [
       "      Location                         Borough       Post-Town   Postcode  \\\n",
       "0   Abbey Wood             Bexley,  Greenwich           LONDON        SE2   \n",
       "1        Acton  Ealing, Hammersmith and Fulham          LONDON     W3, W4   \n",
       "2    Addington                         Croydon         CROYDON        CR0   \n",
       "3   Addiscombe                         Croydon         CROYDON        CR0   \n",
       "4  Albany Park                          Bexley  BEXLEY, SIDCUP  DA5, DA14   \n",
       "\n",
       "  Dial-code OSGridRef  \n",
       "0       020  TQ465785  \n",
       "1       020  TQ205805  \n",
       "2       020  TQ375645  \n",
       "3       020  TQ345665  \n",
       "4       020  TQ478728  "
      ]
     },
     "execution_count": 20,
     "metadata": {},
     "output_type": "execute_result"
    }
   ],
   "source": [
    "df.head(5)"
   ]
  },
  {
   "cell_type": "markdown",
   "metadata": {},
   "source": [
    "__Post codes__\n",
    "Due to the size of some boroughs, they will contain multiple postcodes. To combat this, I will split the multi-lines into singular."
   ]
  },
  {
   "cell_type": "code",
   "execution_count": 22,
   "metadata": {},
   "outputs": [],
   "source": [
    "df0 = df.drop('Postcode', axis=1).join(df['Postcode'].str.split(',', expand=True).stack().reset_index(level=1, drop=True).rename('Postcode'))"
   ]
  },
  {
   "cell_type": "code",
   "execution_count": 23,
   "metadata": {},
   "outputs": [
    {
     "data": {
      "text/html": [
       "<div>\n",
       "<style scoped>\n",
       "    .dataframe tbody tr th:only-of-type {\n",
       "        vertical-align: middle;\n",
       "    }\n",
       "\n",
       "    .dataframe tbody tr th {\n",
       "        vertical-align: top;\n",
       "    }\n",
       "\n",
       "    .dataframe thead th {\n",
       "        text-align: right;\n",
       "    }\n",
       "</style>\n",
       "<table border=\"1\" class=\"dataframe\">\n",
       "  <thead>\n",
       "    <tr style=\"text-align: right;\">\n",
       "      <th></th>\n",
       "      <th>Location</th>\n",
       "      <th>Borough</th>\n",
       "      <th>Post-Town</th>\n",
       "      <th>Dial-code</th>\n",
       "      <th>OSGridRef</th>\n",
       "      <th>Postcode</th>\n",
       "    </tr>\n",
       "  </thead>\n",
       "  <tbody>\n",
       "    <tr>\n",
       "      <th>0</th>\n",
       "      <td>Abbey Wood</td>\n",
       "      <td>Bexley,  Greenwich</td>\n",
       "      <td>LONDON</td>\n",
       "      <td>020</td>\n",
       "      <td>TQ465785</td>\n",
       "      <td>SE2</td>\n",
       "    </tr>\n",
       "    <tr>\n",
       "      <th>1</th>\n",
       "      <td>Acton</td>\n",
       "      <td>Ealing, Hammersmith and Fulham</td>\n",
       "      <td>LONDON</td>\n",
       "      <td>020</td>\n",
       "      <td>TQ205805</td>\n",
       "      <td>W3</td>\n",
       "    </tr>\n",
       "    <tr>\n",
       "      <th>1</th>\n",
       "      <td>Acton</td>\n",
       "      <td>Ealing, Hammersmith and Fulham</td>\n",
       "      <td>LONDON</td>\n",
       "      <td>020</td>\n",
       "      <td>TQ205805</td>\n",
       "      <td>W4</td>\n",
       "    </tr>\n",
       "    <tr>\n",
       "      <th>10</th>\n",
       "      <td>Angel</td>\n",
       "      <td>Islington</td>\n",
       "      <td>LONDON</td>\n",
       "      <td>020</td>\n",
       "      <td>TQ345665</td>\n",
       "      <td>EC1</td>\n",
       "    </tr>\n",
       "    <tr>\n",
       "      <th>10</th>\n",
       "      <td>Angel</td>\n",
       "      <td>Islington</td>\n",
       "      <td>LONDON</td>\n",
       "      <td>020</td>\n",
       "      <td>TQ345665</td>\n",
       "      <td>N1</td>\n",
       "    </tr>\n",
       "  </tbody>\n",
       "</table>\n",
       "</div>"
      ],
      "text/plain": [
       "      Location                         Borough Post-Town Dial-code OSGridRef  \\\n",
       "0   Abbey Wood             Bexley,  Greenwich     LONDON       020  TQ465785   \n",
       "1        Acton  Ealing, Hammersmith and Fulham    LONDON       020  TQ205805   \n",
       "1        Acton  Ealing, Hammersmith and Fulham    LONDON       020  TQ205805   \n",
       "10       Angel                       Islington    LONDON       020  TQ345665   \n",
       "10       Angel                       Islington    LONDON       020  TQ345665   \n",
       "\n",
       "   Postcode  \n",
       "0       SE2  \n",
       "1        W3  \n",
       "1        W4  \n",
       "10      EC1  \n",
       "10       N1  "
      ]
     },
     "execution_count": 23,
     "metadata": {},
     "output_type": "execute_result"
    }
   ],
   "source": [
    "df0.head(5)"
   ]
  },
  {
   "cell_type": "code",
   "execution_count": 25,
   "metadata": {},
   "outputs": [],
   "source": [
    "#Only data from certain headers will be used, we will now drop the columns not needed.\n",
    "\n",
    "df1 = df0[['Location', 'Borough', 'Postcode', 'Post-Town']].reset_index(drop=True)"
   ]
  },
  {
   "cell_type": "code",
   "execution_count": 26,
   "metadata": {},
   "outputs": [
    {
     "data": {
      "text/html": [
       "<div>\n",
       "<style scoped>\n",
       "    .dataframe tbody tr th:only-of-type {\n",
       "        vertical-align: middle;\n",
       "    }\n",
       "\n",
       "    .dataframe tbody tr th {\n",
       "        vertical-align: top;\n",
       "    }\n",
       "\n",
       "    .dataframe thead th {\n",
       "        text-align: right;\n",
       "    }\n",
       "</style>\n",
       "<table border=\"1\" class=\"dataframe\">\n",
       "  <thead>\n",
       "    <tr style=\"text-align: right;\">\n",
       "      <th></th>\n",
       "      <th>Location</th>\n",
       "      <th>Borough</th>\n",
       "      <th>Postcode</th>\n",
       "      <th>Post-Town</th>\n",
       "    </tr>\n",
       "  </thead>\n",
       "  <tbody>\n",
       "    <tr>\n",
       "      <th>0</th>\n",
       "      <td>Abbey Wood</td>\n",
       "      <td>Bexley,  Greenwich</td>\n",
       "      <td>SE2</td>\n",
       "      <td>LONDON</td>\n",
       "    </tr>\n",
       "    <tr>\n",
       "      <th>1</th>\n",
       "      <td>Acton</td>\n",
       "      <td>Ealing, Hammersmith and Fulham</td>\n",
       "      <td>W3</td>\n",
       "      <td>LONDON</td>\n",
       "    </tr>\n",
       "    <tr>\n",
       "      <th>2</th>\n",
       "      <td>Acton</td>\n",
       "      <td>Ealing, Hammersmith and Fulham</td>\n",
       "      <td>W4</td>\n",
       "      <td>LONDON</td>\n",
       "    </tr>\n",
       "    <tr>\n",
       "      <th>3</th>\n",
       "      <td>Angel</td>\n",
       "      <td>Islington</td>\n",
       "      <td>EC1</td>\n",
       "      <td>LONDON</td>\n",
       "    </tr>\n",
       "    <tr>\n",
       "      <th>4</th>\n",
       "      <td>Angel</td>\n",
       "      <td>Islington</td>\n",
       "      <td>N1</td>\n",
       "      <td>LONDON</td>\n",
       "    </tr>\n",
       "  </tbody>\n",
       "</table>\n",
       "</div>"
      ],
      "text/plain": [
       "     Location                         Borough Postcode Post-Town\n",
       "0  Abbey Wood             Bexley,  Greenwich       SE2    LONDON\n",
       "1       Acton  Ealing, Hammersmith and Fulham       W3    LONDON\n",
       "2       Acton  Ealing, Hammersmith and Fulham       W4    LONDON\n",
       "3       Angel                       Islington      EC1    LONDON\n",
       "4       Angel                       Islington       N1    LONDON"
      ]
     },
     "execution_count": 26,
     "metadata": {},
     "output_type": "execute_result"
    }
   ],
   "source": [
    "df1.head(5)"
   ]
  },
  {
   "cell_type": "code",
   "execution_count": 29,
   "metadata": {},
   "outputs": [],
   "source": [
    "#Now remove all non-London post-towns\n",
    "df2 = df1\n",
    "df21 = df2[df2['Post-Town'].str.contains('LONDON')]"
   ]
  },
  {
   "cell_type": "code",
   "execution_count": 30,
   "metadata": {},
   "outputs": [
    {
     "data": {
      "text/html": [
       "<div>\n",
       "<style scoped>\n",
       "    .dataframe tbody tr th:only-of-type {\n",
       "        vertical-align: middle;\n",
       "    }\n",
       "\n",
       "    .dataframe tbody tr th {\n",
       "        vertical-align: top;\n",
       "    }\n",
       "\n",
       "    .dataframe thead th {\n",
       "        text-align: right;\n",
       "    }\n",
       "</style>\n",
       "<table border=\"1\" class=\"dataframe\">\n",
       "  <thead>\n",
       "    <tr style=\"text-align: right;\">\n",
       "      <th></th>\n",
       "      <th>Location</th>\n",
       "      <th>Borough</th>\n",
       "      <th>Postcode</th>\n",
       "      <th>Post-Town</th>\n",
       "    </tr>\n",
       "  </thead>\n",
       "  <tbody>\n",
       "    <tr>\n",
       "      <th>0</th>\n",
       "      <td>Abbey Wood</td>\n",
       "      <td>Bexley,  Greenwich</td>\n",
       "      <td>SE2</td>\n",
       "      <td>LONDON</td>\n",
       "    </tr>\n",
       "    <tr>\n",
       "      <th>1</th>\n",
       "      <td>Acton</td>\n",
       "      <td>Ealing, Hammersmith and Fulham</td>\n",
       "      <td>W3</td>\n",
       "      <td>LONDON</td>\n",
       "    </tr>\n",
       "    <tr>\n",
       "      <th>2</th>\n",
       "      <td>Acton</td>\n",
       "      <td>Ealing, Hammersmith and Fulham</td>\n",
       "      <td>W4</td>\n",
       "      <td>LONDON</td>\n",
       "    </tr>\n",
       "    <tr>\n",
       "      <th>3</th>\n",
       "      <td>Angel</td>\n",
       "      <td>Islington</td>\n",
       "      <td>EC1</td>\n",
       "      <td>LONDON</td>\n",
       "    </tr>\n",
       "    <tr>\n",
       "      <th>4</th>\n",
       "      <td>Angel</td>\n",
       "      <td>Islington</td>\n",
       "      <td>N1</td>\n",
       "      <td>LONDON</td>\n",
       "    </tr>\n",
       "  </tbody>\n",
       "</table>\n",
       "</div>"
      ],
      "text/plain": [
       "     Location                         Borough Postcode Post-Town\n",
       "0  Abbey Wood             Bexley,  Greenwich       SE2    LONDON\n",
       "1       Acton  Ealing, Hammersmith and Fulham       W3    LONDON\n",
       "2       Acton  Ealing, Hammersmith and Fulham       W4    LONDON\n",
       "3       Angel                       Islington      EC1    LONDON\n",
       "4       Angel                       Islington       N1    LONDON"
      ]
     },
     "execution_count": 30,
     "metadata": {},
     "output_type": "execute_result"
    }
   ],
   "source": [
    "df21.head(5)"
   ]
  },
  {
   "cell_type": "code",
   "execution_count": 31,
   "metadata": {},
   "outputs": [],
   "source": [
    "#We will now also drop the 'Post-town' column as we now know we only have the towns within London.\n",
    "\n",
    "df3 = df21[['Location', 'Borough', 'Postcode']].reset_index(drop=True)"
   ]
  },
  {
   "cell_type": "code",
   "execution_count": 34,
   "metadata": {},
   "outputs": [
    {
     "data": {
      "text/html": [
       "<div>\n",
       "<style scoped>\n",
       "    .dataframe tbody tr th:only-of-type {\n",
       "        vertical-align: middle;\n",
       "    }\n",
       "\n",
       "    .dataframe tbody tr th {\n",
       "        vertical-align: top;\n",
       "    }\n",
       "\n",
       "    .dataframe thead th {\n",
       "        text-align: right;\n",
       "    }\n",
       "</style>\n",
       "<table border=\"1\" class=\"dataframe\">\n",
       "  <thead>\n",
       "    <tr style=\"text-align: right;\">\n",
       "      <th></th>\n",
       "      <th>Location</th>\n",
       "      <th>Borough</th>\n",
       "      <th>Postcode</th>\n",
       "    </tr>\n",
       "  </thead>\n",
       "  <tbody>\n",
       "    <tr>\n",
       "      <th>0</th>\n",
       "      <td>Abbey Wood</td>\n",
       "      <td>Bexley,  Greenwich</td>\n",
       "      <td>SE2</td>\n",
       "    </tr>\n",
       "    <tr>\n",
       "      <th>1</th>\n",
       "      <td>Acton</td>\n",
       "      <td>Ealing, Hammersmith and Fulham</td>\n",
       "      <td>W3</td>\n",
       "    </tr>\n",
       "    <tr>\n",
       "      <th>2</th>\n",
       "      <td>Acton</td>\n",
       "      <td>Ealing, Hammersmith and Fulham</td>\n",
       "      <td>W4</td>\n",
       "    </tr>\n",
       "    <tr>\n",
       "      <th>3</th>\n",
       "      <td>Angel</td>\n",
       "      <td>Islington</td>\n",
       "      <td>EC1</td>\n",
       "    </tr>\n",
       "    <tr>\n",
       "      <th>4</th>\n",
       "      <td>Angel</td>\n",
       "      <td>Islington</td>\n",
       "      <td>N1</td>\n",
       "    </tr>\n",
       "    <tr>\n",
       "      <th>5</th>\n",
       "      <td>Church End</td>\n",
       "      <td>Brent</td>\n",
       "      <td>NW10</td>\n",
       "    </tr>\n",
       "    <tr>\n",
       "      <th>6</th>\n",
       "      <td>Church End</td>\n",
       "      <td>Barnet</td>\n",
       "      <td>N3</td>\n",
       "    </tr>\n",
       "    <tr>\n",
       "      <th>7</th>\n",
       "      <td>Clapham</td>\n",
       "      <td>Lambeth, Wandsworth</td>\n",
       "      <td>SW4</td>\n",
       "    </tr>\n",
       "    <tr>\n",
       "      <th>8</th>\n",
       "      <td>Clerkenwell</td>\n",
       "      <td>Islington</td>\n",
       "      <td>EC1</td>\n",
       "    </tr>\n",
       "    <tr>\n",
       "      <th>9</th>\n",
       "      <td>Colindale</td>\n",
       "      <td>Barnet</td>\n",
       "      <td>NW9</td>\n",
       "    </tr>\n",
       "    <tr>\n",
       "      <th>10</th>\n",
       "      <td>Colliers Wood</td>\n",
       "      <td>Merton</td>\n",
       "      <td>SW19</td>\n",
       "    </tr>\n",
       "    <tr>\n",
       "      <th>11</th>\n",
       "      <td>Colney Hatch</td>\n",
       "      <td>Barnet</td>\n",
       "      <td>N11</td>\n",
       "    </tr>\n",
       "    <tr>\n",
       "      <th>12</th>\n",
       "      <td>Colney Hatch</td>\n",
       "      <td>Barnet</td>\n",
       "      <td>N10</td>\n",
       "    </tr>\n",
       "    <tr>\n",
       "      <th>13</th>\n",
       "      <td>Covent Garden</td>\n",
       "      <td>Westminster</td>\n",
       "      <td>WC2</td>\n",
       "    </tr>\n",
       "    <tr>\n",
       "      <th>14</th>\n",
       "      <td>Archway</td>\n",
       "      <td>Islington</td>\n",
       "      <td>N19</td>\n",
       "    </tr>\n",
       "    <tr>\n",
       "      <th>15</th>\n",
       "      <td>Cricklewood</td>\n",
       "      <td>Barnet, Brent, Camden</td>\n",
       "      <td>NW2</td>\n",
       "    </tr>\n",
       "    <tr>\n",
       "      <th>16</th>\n",
       "      <td>Crofton Park</td>\n",
       "      <td>Lewisham</td>\n",
       "      <td>SE4</td>\n",
       "    </tr>\n",
       "    <tr>\n",
       "      <th>17</th>\n",
       "      <td>Crossness</td>\n",
       "      <td>Bexley</td>\n",
       "      <td>SE2</td>\n",
       "    </tr>\n",
       "    <tr>\n",
       "      <th>18</th>\n",
       "      <td>Crouch End</td>\n",
       "      <td>Haringey</td>\n",
       "      <td>N8</td>\n",
       "    </tr>\n",
       "    <tr>\n",
       "      <th>19</th>\n",
       "      <td>Crystal Palace</td>\n",
       "      <td>Bromley</td>\n",
       "      <td>SE19</td>\n",
       "    </tr>\n",
       "  </tbody>\n",
       "</table>\n",
       "</div>"
      ],
      "text/plain": [
       "          Location                         Borough Postcode\n",
       "0       Abbey Wood             Bexley,  Greenwich       SE2\n",
       "1            Acton  Ealing, Hammersmith and Fulham       W3\n",
       "2            Acton  Ealing, Hammersmith and Fulham       W4\n",
       "3            Angel                       Islington      EC1\n",
       "4            Angel                       Islington       N1\n",
       "5       Church End                           Brent     NW10\n",
       "6       Church End                          Barnet       N3\n",
       "7          Clapham             Lambeth, Wandsworth      SW4\n",
       "8      Clerkenwell                       Islington      EC1\n",
       "9        Colindale                          Barnet      NW9\n",
       "10   Colliers Wood                          Merton     SW19\n",
       "11    Colney Hatch                          Barnet      N11\n",
       "12    Colney Hatch                          Barnet      N10\n",
       "13   Covent Garden                     Westminster      WC2\n",
       "14         Archway                       Islington      N19\n",
       "15     Cricklewood           Barnet, Brent, Camden      NW2\n",
       "16    Crofton Park                        Lewisham      SE4\n",
       "17       Crossness                          Bexley      SE2\n",
       "18      Crouch End                        Haringey       N8\n",
       "19  Crystal Palace                         Bromley     SE19"
      ]
     },
     "execution_count": 34,
     "metadata": {},
     "output_type": "execute_result"
    }
   ],
   "source": [
    "df3.head(20)"
   ]
  },
  {
   "cell_type": "code",
   "execution_count": 35,
   "metadata": {},
   "outputs": [],
   "source": [
    "df_london = df3\n",
    "df_london.to_csv('LondonLocations.csv', index = False)"
   ]
  },
  {
   "cell_type": "markdown",
   "metadata": {},
   "source": [
    "__Specific area to review__\n",
    "\n",
    "The area of London I wish to focus is the diverse area of the South and South East. Contained within here we have London's famous 'Borough Market' just by London Bridge. A great place to get any kind of food you can imagine."
   ]
  },
  {
   "cell_type": "code",
   "execution_count": 36,
   "metadata": {},
   "outputs": [],
   "source": [
    "df_london.Postcode = df_london.Postcode.str.strip()"
   ]
  },
  {
   "cell_type": "code",
   "execution_count": 37,
   "metadata": {},
   "outputs": [
    {
     "data": {
      "text/html": [
       "<div>\n",
       "<style scoped>\n",
       "    .dataframe tbody tr th:only-of-type {\n",
       "        vertical-align: middle;\n",
       "    }\n",
       "\n",
       "    .dataframe tbody tr th {\n",
       "        vertical-align: top;\n",
       "    }\n",
       "\n",
       "    .dataframe thead th {\n",
       "        text-align: right;\n",
       "    }\n",
       "</style>\n",
       "<table border=\"1\" class=\"dataframe\">\n",
       "  <thead>\n",
       "    <tr style=\"text-align: right;\">\n",
       "      <th></th>\n",
       "      <th>Location</th>\n",
       "      <th>Borough</th>\n",
       "      <th>Postcode</th>\n",
       "    </tr>\n",
       "  </thead>\n",
       "  <tbody>\n",
       "    <tr>\n",
       "      <th>0</th>\n",
       "      <td>Abbey Wood</td>\n",
       "      <td>Bexley,  Greenwich</td>\n",
       "      <td>SE2</td>\n",
       "    </tr>\n",
       "    <tr>\n",
       "      <th>1</th>\n",
       "      <td>Acton</td>\n",
       "      <td>Ealing, Hammersmith and Fulham</td>\n",
       "      <td>W3</td>\n",
       "    </tr>\n",
       "    <tr>\n",
       "      <th>2</th>\n",
       "      <td>Acton</td>\n",
       "      <td>Ealing, Hammersmith and Fulham</td>\n",
       "      <td>W4</td>\n",
       "    </tr>\n",
       "    <tr>\n",
       "      <th>3</th>\n",
       "      <td>Angel</td>\n",
       "      <td>Islington</td>\n",
       "      <td>EC1</td>\n",
       "    </tr>\n",
       "    <tr>\n",
       "      <th>4</th>\n",
       "      <td>Angel</td>\n",
       "      <td>Islington</td>\n",
       "      <td>N1</td>\n",
       "    </tr>\n",
       "  </tbody>\n",
       "</table>\n",
       "</div>"
      ],
      "text/plain": [
       "     Location                         Borough Postcode\n",
       "0  Abbey Wood             Bexley,  Greenwich       SE2\n",
       "1       Acton  Ealing, Hammersmith and Fulham       W3\n",
       "2       Acton  Ealing, Hammersmith and Fulham       W4\n",
       "3       Angel                       Islington      EC1\n",
       "4       Angel                       Islington       N1"
      ]
     },
     "execution_count": 37,
     "metadata": {},
     "output_type": "execute_result"
    }
   ],
   "source": [
    "df_london.head(5)"
   ]
  },
  {
   "cell_type": "code",
   "execution_count": 38,
   "metadata": {},
   "outputs": [],
   "source": [
    "#Now we will extract all postcodes only within South East London (SE postcodes)\n",
    "\n",
    "df_se = df_london[df_london['Postcode'].str.startswith(('SE'))].reset_index(drop=True)"
   ]
  },
  {
   "cell_type": "code",
   "execution_count": 39,
   "metadata": {},
   "outputs": [
    {
     "data": {
      "text/html": [
       "<div>\n",
       "<style scoped>\n",
       "    .dataframe tbody tr th:only-of-type {\n",
       "        vertical-align: middle;\n",
       "    }\n",
       "\n",
       "    .dataframe tbody tr th {\n",
       "        vertical-align: top;\n",
       "    }\n",
       "\n",
       "    .dataframe thead th {\n",
       "        text-align: right;\n",
       "    }\n",
       "</style>\n",
       "<table border=\"1\" class=\"dataframe\">\n",
       "  <thead>\n",
       "    <tr style=\"text-align: right;\">\n",
       "      <th></th>\n",
       "      <th>Location</th>\n",
       "      <th>Borough</th>\n",
       "      <th>Postcode</th>\n",
       "    </tr>\n",
       "  </thead>\n",
       "  <tbody>\n",
       "    <tr>\n",
       "      <th>0</th>\n",
       "      <td>Abbey Wood</td>\n",
       "      <td>Bexley,  Greenwich</td>\n",
       "      <td>SE2</td>\n",
       "    </tr>\n",
       "    <tr>\n",
       "      <th>1</th>\n",
       "      <td>Crofton Park</td>\n",
       "      <td>Lewisham</td>\n",
       "      <td>SE4</td>\n",
       "    </tr>\n",
       "    <tr>\n",
       "      <th>2</th>\n",
       "      <td>Crossness</td>\n",
       "      <td>Bexley</td>\n",
       "      <td>SE2</td>\n",
       "    </tr>\n",
       "    <tr>\n",
       "      <th>3</th>\n",
       "      <td>Crystal Palace</td>\n",
       "      <td>Bromley</td>\n",
       "      <td>SE19</td>\n",
       "    </tr>\n",
       "    <tr>\n",
       "      <th>4</th>\n",
       "      <td>Crystal Palace</td>\n",
       "      <td>Bromley</td>\n",
       "      <td>SE20</td>\n",
       "    </tr>\n",
       "    <tr>\n",
       "      <th>5</th>\n",
       "      <td>Crystal Palace</td>\n",
       "      <td>Bromley</td>\n",
       "      <td>SE26</td>\n",
       "    </tr>\n",
       "    <tr>\n",
       "      <th>6</th>\n",
       "      <td>Denmark Hill</td>\n",
       "      <td>Southwark</td>\n",
       "      <td>SE5</td>\n",
       "    </tr>\n",
       "    <tr>\n",
       "      <th>7</th>\n",
       "      <td>Deptford</td>\n",
       "      <td>Lewisham</td>\n",
       "      <td>SE8</td>\n",
       "    </tr>\n",
       "    <tr>\n",
       "      <th>8</th>\n",
       "      <td>Dulwich</td>\n",
       "      <td>Southwark</td>\n",
       "      <td>SE21</td>\n",
       "    </tr>\n",
       "    <tr>\n",
       "      <th>9</th>\n",
       "      <td>East Dulwich</td>\n",
       "      <td>Southwark</td>\n",
       "      <td>SE22</td>\n",
       "    </tr>\n",
       "    <tr>\n",
       "      <th>10</th>\n",
       "      <td>Elephant and Castle</td>\n",
       "      <td>Southwark</td>\n",
       "      <td>SE1</td>\n",
       "    </tr>\n",
       "    <tr>\n",
       "      <th>11</th>\n",
       "      <td>Elephant and Castle</td>\n",
       "      <td>Southwark</td>\n",
       "      <td>SE11</td>\n",
       "    </tr>\n",
       "    <tr>\n",
       "      <th>12</th>\n",
       "      <td>Elephant and Castle</td>\n",
       "      <td>Southwark</td>\n",
       "      <td>SE17</td>\n",
       "    </tr>\n",
       "    <tr>\n",
       "      <th>13</th>\n",
       "      <td>Eltham</td>\n",
       "      <td>Greenwich</td>\n",
       "      <td>SE9</td>\n",
       "    </tr>\n",
       "    <tr>\n",
       "      <th>14</th>\n",
       "      <td>Falconwood</td>\n",
       "      <td>Bexley, Greenwich</td>\n",
       "      <td>SE9</td>\n",
       "    </tr>\n",
       "    <tr>\n",
       "      <th>15</th>\n",
       "      <td>Bankside</td>\n",
       "      <td>Southwark</td>\n",
       "      <td>SE1</td>\n",
       "    </tr>\n",
       "    <tr>\n",
       "      <th>16</th>\n",
       "      <td>Forest Hill</td>\n",
       "      <td>Lewisham</td>\n",
       "      <td>SE23</td>\n",
       "    </tr>\n",
       "    <tr>\n",
       "      <th>17</th>\n",
       "      <td>Gipsy Hill</td>\n",
       "      <td>Lambeth</td>\n",
       "      <td>SE19</td>\n",
       "    </tr>\n",
       "    <tr>\n",
       "      <th>18</th>\n",
       "      <td>Gipsy Hill</td>\n",
       "      <td>Lambeth</td>\n",
       "      <td>SE27</td>\n",
       "    </tr>\n",
       "    <tr>\n",
       "      <th>19</th>\n",
       "      <td>Greenwich</td>\n",
       "      <td>Greenwich</td>\n",
       "      <td>SE10</td>\n",
       "    </tr>\n",
       "  </tbody>\n",
       "</table>\n",
       "</div>"
      ],
      "text/plain": [
       "               Location              Borough Postcode\n",
       "0            Abbey Wood  Bexley,  Greenwich       SE2\n",
       "1          Crofton Park             Lewisham      SE4\n",
       "2             Crossness               Bexley      SE2\n",
       "3        Crystal Palace              Bromley     SE19\n",
       "4        Crystal Palace              Bromley     SE20\n",
       "5        Crystal Palace              Bromley     SE26\n",
       "6          Denmark Hill            Southwark      SE5\n",
       "7              Deptford             Lewisham      SE8\n",
       "8               Dulwich            Southwark     SE21\n",
       "9          East Dulwich            Southwark     SE22\n",
       "10  Elephant and Castle            Southwark      SE1\n",
       "11  Elephant and Castle            Southwark     SE11\n",
       "12  Elephant and Castle            Southwark     SE17\n",
       "13               Eltham            Greenwich      SE9\n",
       "14           Falconwood    Bexley, Greenwich      SE9\n",
       "15             Bankside            Southwark      SE1\n",
       "16          Forest Hill             Lewisham     SE23\n",
       "17           Gipsy Hill              Lambeth     SE19\n",
       "18           Gipsy Hill              Lambeth     SE27\n",
       "19            Greenwich            Greenwich     SE10"
      ]
     },
     "execution_count": 39,
     "metadata": {},
     "output_type": "execute_result"
    }
   ],
   "source": [
    "#So now we should only see SE postcode areas below\n",
    "\n",
    "df_se.head(20)"
   ]
  },
  {
   "cell_type": "markdown",
   "metadata": {},
   "source": [
    "__Data 2__\n",
    "\n",
    "We will now examine the demographics of these areas to work out the proportion of nationalities. This area of London is very diverse with a large make-up of Afro-Caribbran populace.\n",
    "This data will enable us to gain a better idea of what cuisine is likely to be found. For this, we are using demographic data from Wikipedia.\n",
    "\n",
    "https://en.wikipedia.org/wiki/Demography_of_London\n"
   ]
  },
  {
   "cell_type": "markdown",
   "metadata": {},
   "source": [
    "__Data 3__\n",
    "\n",
    "We will next be looking at obtaining the location data for our targetted areas. To accomplish this, we will be using a Geocoder which will provide longitude and latitudes.\n",
    "\n",
    "We will create this data frame for our SE locations below;"
   ]
  },
  {
   "cell_type": "code",
   "execution_count": 55,
   "metadata": {},
   "outputs": [],
   "source": [
    "# Geocoder starts here\n",
    "# Defining a function to use --> get_latlng()'''\n",
    "def get_latlng(arcgis_geocoder):\n",
    "    \n",
    "    # Initialize the Location (lat. and long.) to \"None\"\n",
    "    lat_lng_coords = None\n",
    "    \n",
    "    # While loop helps to create a continous run until all the location coordinates are geocoded\n",
    "    while(lat_lng_coords is None):\n",
    "        g = geocoder.arcgis('{}, London, United Kingdom'.format(arcgis_geocoder))\n",
    "        lat_lng_coords = g.latlng\n",
    "    return lat_lng_coords"
   ]
  },
  {
   "cell_type": "code",
   "execution_count": 57,
   "metadata": {},
   "outputs": [
    {
     "data": {
      "text/plain": [
       "[51.492450000000076, 0.12127000000003818]"
      ]
     },
     "execution_count": 57,
     "metadata": {},
     "output_type": "execute_result"
    }
   ],
   "source": [
    "#This will return the co-ordinates for the SE2 postcode\n",
    "sample = get_latlng('SE2')\n",
    "sample"
   ]
  },
  {
   "cell_type": "code",
   "execution_count": 59,
   "metadata": {},
   "outputs": [
    {
     "name": "stdout",
     "output_type": "stream",
     "text": [
      "Time of execution:  50.5660560131073 seconds\n"
     ]
    }
   ],
   "source": [
    "#We now apply this to our entire data frame of SE post-codes\n",
    "\n",
    "start = time.time()\n",
    "\n",
    "postal_codes = df_se['Postcode']    \n",
    "coordinates = [get_latlng(postal_code) for postal_code in postal_codes.tolist()]\n",
    "\n",
    "end = time.time()\n",
    "print(\"Time of execution: \", end - start, \"seconds\")"
   ]
  },
  {
   "cell_type": "code",
   "execution_count": 61,
   "metadata": {},
   "outputs": [],
   "source": [
    "#Now we add the co-ordinates to our table\n",
    "df_se_loc = df_se\n",
    "\n",
    "# The obtained coordinates (latitude and longitude) are joined with the dataframe as shown\n",
    "df_se_coordinates = pd.DataFrame(coordinates, columns = ['Latitude', 'Longitude'])\n",
    "df_se_loc['Latitude'] = df_se_coordinates['Latitude']\n",
    "df_se_loc['Longitude'] = df_se_coordinates['Longitude']"
   ]
  },
  {
   "cell_type": "code",
   "execution_count": 62,
   "metadata": {},
   "outputs": [
    {
     "data": {
      "text/html": [
       "<div>\n",
       "<style scoped>\n",
       "    .dataframe tbody tr th:only-of-type {\n",
       "        vertical-align: middle;\n",
       "    }\n",
       "\n",
       "    .dataframe tbody tr th {\n",
       "        vertical-align: top;\n",
       "    }\n",
       "\n",
       "    .dataframe thead th {\n",
       "        text-align: right;\n",
       "    }\n",
       "</style>\n",
       "<table border=\"1\" class=\"dataframe\">\n",
       "  <thead>\n",
       "    <tr style=\"text-align: right;\">\n",
       "      <th></th>\n",
       "      <th>Location</th>\n",
       "      <th>Borough</th>\n",
       "      <th>Postcode</th>\n",
       "      <th>Latitude</th>\n",
       "      <th>Longitude</th>\n",
       "    </tr>\n",
       "  </thead>\n",
       "  <tbody>\n",
       "    <tr>\n",
       "      <th>0</th>\n",
       "      <td>Abbey Wood</td>\n",
       "      <td>Bexley,  Greenwich</td>\n",
       "      <td>SE2</td>\n",
       "      <td>51.49245</td>\n",
       "      <td>0.12127</td>\n",
       "    </tr>\n",
       "    <tr>\n",
       "      <th>1</th>\n",
       "      <td>Crofton Park</td>\n",
       "      <td>Lewisham</td>\n",
       "      <td>SE4</td>\n",
       "      <td>51.46268</td>\n",
       "      <td>-0.03558</td>\n",
       "    </tr>\n",
       "    <tr>\n",
       "      <th>2</th>\n",
       "      <td>Crossness</td>\n",
       "      <td>Bexley</td>\n",
       "      <td>SE2</td>\n",
       "      <td>51.49245</td>\n",
       "      <td>0.12127</td>\n",
       "    </tr>\n",
       "    <tr>\n",
       "      <th>3</th>\n",
       "      <td>Crystal Palace</td>\n",
       "      <td>Bromley</td>\n",
       "      <td>SE19</td>\n",
       "      <td>51.41990</td>\n",
       "      <td>-0.08808</td>\n",
       "    </tr>\n",
       "    <tr>\n",
       "      <th>4</th>\n",
       "      <td>Crystal Palace</td>\n",
       "      <td>Bromley</td>\n",
       "      <td>SE20</td>\n",
       "      <td>51.41009</td>\n",
       "      <td>-0.05683</td>\n",
       "    </tr>\n",
       "  </tbody>\n",
       "</table>\n",
       "</div>"
      ],
      "text/plain": [
       "         Location              Borough Postcode  Latitude  Longitude\n",
       "0      Abbey Wood  Bexley,  Greenwich       SE2  51.49245    0.12127\n",
       "1    Crofton Park             Lewisham      SE4  51.46268   -0.03558\n",
       "2       Crossness               Bexley      SE2  51.49245    0.12127\n",
       "3  Crystal Palace              Bromley     SE19  51.41990   -0.08808\n",
       "4  Crystal Palace              Bromley     SE20  51.41009   -0.05683"
      ]
     },
     "execution_count": 62,
     "metadata": {},
     "output_type": "execute_result"
    }
   ],
   "source": [
    "df_se_loc.head(5)"
   ]
  },
  {
   "cell_type": "markdown",
   "metadata": {},
   "source": [
    "__Data 3__\n",
    "\n",
    "Finally, we will be using FourSquare geographical location data to explore the boroughs/postal codes with greater ease."
   ]
  }
 ],
 "metadata": {
  "kernelspec": {
   "display_name": "Python 3",
   "language": "python",
   "name": "python3"
  },
  "language_info": {
   "codemirror_mode": {
    "name": "ipython",
    "version": 3
   },
   "file_extension": ".py",
   "mimetype": "text/x-python",
   "name": "python",
   "nbconvert_exporter": "python",
   "pygments_lexer": "ipython3",
   "version": "3.7.6"
  }
 },
 "nbformat": 4,
 "nbformat_minor": 4
}
